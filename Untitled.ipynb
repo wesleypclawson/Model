{
 "cells": [
  {
   "cell_type": "code",
   "execution_count": 63,
   "metadata": {},
   "outputs": [
    {
     "name": "stdout",
     "output_type": "stream",
     "text": [
      "Max of: -0.6968373144130143 found at time: 1.27921394 ms\n",
      "Max s: 1.5485273653622542 with peak conductance: 6.19410946 nS\n",
      "Max PSC: 0.43358766 nA\n"
     ]
    },
    {
     "data": {
      "text/plain": [
       "15.0"
      ]
     },
     "execution_count": 63,
     "metadata": {},
     "output_type": "execute_result"
    }
   ],
   "source": [
    "from brian2 import *\n",
    "from jupyterthemes import jtplot\n",
    "jtplot.style(theme='onedork')\n",
    "jtplot.style(ticks=True, grid=False, figsize=(6, 4.5))\n",
    "\n",
    "%matplotlib inline\n",
    "\n",
    "V_I = -70. * mV  # Reversal potential inhibitory\n",
    "\n",
    "# Time constants for GABA\n",
    "tau_d_GABA = 5 * ms\n",
    "tau_r_GABA = 0.5 * ms\n",
    "tau_l_GABA = 1 * ms\n",
    "\n",
    "# Membrane time constants for I and E\n",
    "tau_m_I = 10 * ms\n",
    "tau_m_E = 20 * ms\n",
    "\n",
    "# Conductance\n",
    "g_GABA_I = 4 * nS\n",
    "\n",
    "# Normalization Constant\n",
    "max_s = ( tau_m_I / tau_d_GABA) * \\\n",
    "      (tau_r_GABA / tau_d_GABA ) ** (tau_r_GABA / (tau_d_GABA - tau_r_GABA))\n",
    "\n",
    "max_t = (tau_r_GABA * tau_d_GABA) / (tau_d_GABA - tau_r_GABA) * log(tau_d_GABA/tau_r_GABA)\n",
    "\n",
    "max_psc = exp( - max_t / tau_r_GABA ) - exp( - max_t / tau_d_GABA )\n",
    "max_cond = g_GABA_I * max_s\n",
    "max_PSC = max_cond * -V_I\n",
    "\n",
    "print('Max of: ' + str(max_psc) + ' found at time: ' + str(max_t))\n",
    "print('Max s: ' + str(max_s) + ' with peak conductance: ' + str(max_cond))\n",
    "print('Max PSC: ' + str(max_PSC))\n",
    "\n",
    "93/6.2"
   ]
  },
  {
   "cell_type": "code",
   "execution_count": 57,
   "metadata": {},
   "outputs": [
    {
     "name": "stdout",
     "output_type": "stream",
     "text": [
      "Starting simulation at t=0. s for a duration of 100. ms\n"
     ]
    },
    {
     "name": "stderr",
     "output_type": "stream",
     "text": [
      "WARNING    neurongroup_4's variable 'v' has NaN, very large values, or encountered an error in numerical integration. This is usually a sign that an unstable or invalid integration method was chosen. [brian2.groups.group.invalid_values]\n"
     ]
    },
    {
     "name": "stdout",
     "output_type": "stream",
     "text": [
      "0.1 (100%) simulated in < 1s\n"
     ]
    },
    {
     "data": {
      "text/plain": [
       "[<matplotlib.lines.Line2D at 0x1d7b3979ba8>]"
      ]
     },
     "execution_count": 57,
     "metadata": {},
     "output_type": "execute_result"
    },
    {
     "data": {
      "image/png": "[encoded data removed]",
      "text/plain": [
       "<Figure size 432x288 with 1 Axes>"
      ]
     },
     "metadata": {
      "needs_background": "dark"
     },
     "output_type": "display_data"
    },
    {
     "data": {
      "image/png": "[encoded data removed]",
      "text/plain": [
       "<Figure size 432x288 with 1 Axes>"
      ]
     },
     "metadata": {
      "needs_background": "dark"
     },
     "output_type": "display_data"
    }
   ],
   "source": [
    "N = 200\n",
    "C_ext, rate = 200, 1 * Hz\n",
    "\n",
    "tau_I = 1 * ms\n",
    "tau_1 = 0.5 * ms\n",
    "tau_2 = 5 * ms\n",
    "\n",
    "tau_delay = 1 * ms\n",
    "\n",
    "eqs = '''\n",
    "dv/dt = ((tau_2 / tau_1) ** (tau_1 / (tau_2 - tau_1))*x-v)/tau_1 : 1\n",
    "dx/dt = -x/tau_2                                                : 1\n",
    "'''\n",
    "\n",
    "G = NeuronGroup(N, eqs, threshold='v>1', reset='v = 0',  refractory=tau_I, method='exact')\n",
    "G.v = np.zeros(N, dtype=int)\n",
    "\n",
    "P_I = PoissonInput(G, 'x', C_ext, rate, '0.5')\n",
    "\n",
    "# Comment these two lines out to see what happens without Synapses\n",
    "S = Synapses(G, G, on_pre='x += 1', delay=tau_delay)\n",
    "S.connect('i != j', p = 0.2)\n",
    "\n",
    "M = StateMonitor(G, 'v', record=True)\n",
    "Sp = SpikeMonitor(G)\n",
    "LFP = PopulationRateMonitor(G)\n",
    "\n",
    "net = Network(G, P_I, S, M, Sp, LFP)\n",
    "net.run(100 * ms, report='stdout')\n",
    "\n",
    "figure()\n",
    "plot(LFP.t/ms, LFP.smooth_rate(width=0.25*ms)/Hz)\n",
    "# xlabel('Time (ms)')\n",
    "# ylabel('v')\n",
    "\n",
    "figure()\n",
    "plot(Sp.t / ms, Sp.i, '.', markersize=2)"
   ]
  },
  {
   "cell_type": "code",
   "execution_count": 58,
   "metadata": {},
   "outputs": [
    {
     "data": {
      "text/plain": [
       "[<matplotlib.lines.Line2D at 0x1d7b30bb748>]"
      ]
     },
     "execution_count": 58,
     "metadata": {},
     "output_type": "execute_result"
    },
    {
     "data": {
      "image/png": "[encoded data removed]",
      "text/plain": [
       "<Figure size 432x288 with 1 Axes>"
      ]
     },
     "metadata": {
      "needs_background": "dark"
     },
     "output_type": "display_data"
    }
   ],
   "source": [
    "plot(M.t, M.v[0])"
   ]
  },
  {
   "cell_type": "code",
   "execution_count": 30,
   "metadata": {},
   "outputs": [
    {
     "data": {
      "text/plain": [
       "0.5488116360940264"
      ]
     },
     "execution_count": 30,
     "metadata": {},
     "output_type": "execute_result"
    }
   ],
   "source": [
    "M.v[0][10]"
   ]
  },
  {
   "cell_type": "code",
   "execution_count": 50,
   "metadata": {},
   "outputs": [],
   "source": [
    "max_x = (tau_2 / (tau_2 - tau_1)) * log(tau_2 / tau_1) / ms\n",
    "\n",
    "max_x = max_x / kHz"
   ]
  },
  {
   "cell_type": "code",
   "execution_count": 55,
   "metadata": {},
   "outputs": [
    {
     "data": {
      "text/plain": [
       "-0.5934894078157517"
      ]
     },
     "execution_count": 55,
     "metadata": {},
     "output_type": "execute_result"
    }
   ],
   "source": [
    "tau_1 = 0.5\n",
    "tau_2 = 5\n",
    "max_value = exp(-max_x/tau_1)-exp(-max_x/tau_2)\n",
    "max_value"
   ]
  },
  {
   "cell_type": "code",
   "execution_count": null,
   "metadata": {},
   "outputs": [],
   "source": []
  }
 ],
 "metadata": {
  "kernelspec": {
   "display_name": "Python 3",
   "language": "python",
   "name": "python3"
  },
  "language_info": {
   "codemirror_mode": {
    "name": "ipython",
    "version": 3
   },
   "file_extension": ".py",
   "mimetype": "text/x-python",
   "name": "python",
   "nbconvert_exporter": "python",
   "pygments_lexer": "ipython3",
   "version": "3.7.3"
  }
 },
 "nbformat": 4,
 "nbformat_minor": 2
}
